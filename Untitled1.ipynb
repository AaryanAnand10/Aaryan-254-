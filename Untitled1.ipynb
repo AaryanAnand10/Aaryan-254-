{
 "cells": [
  {
   "cell_type": "code",
   "execution_count": 14,
   "id": "a3be7902",
   "metadata": {},
   "outputs": [],
   "source": [
    "import matplotlib.pyplot as plt\n",
    "import seaborn as sns"
   ]
  },
  {
   "cell_type": "code",
   "execution_count": 16,
   "id": "a676606a",
   "metadata": {
    "scrolled": true
   },
   "outputs": [
    {
     "data": {
      "text/html": [
       "<div>\n",
       "<style scoped>\n",
       "    .dataframe tbody tr th:only-of-type {\n",
       "        vertical-align: middle;\n",
       "    }\n",
       "\n",
       "    .dataframe tbody tr th {\n",
       "        vertical-align: top;\n",
       "    }\n",
       "\n",
       "    .dataframe thead th {\n",
       "        text-align: right;\n",
       "    }\n",
       "</style>\n",
       "<table border=\"1\" class=\"dataframe\">\n",
       "  <thead>\n",
       "    <tr style=\"text-align: right;\">\n",
       "      <th></th>\n",
       "      <th>Name</th>\n",
       "      <th>Age</th>\n",
       "      <th>Gender</th>\n",
       "      <th>Hours_Studied</th>\n",
       "      <th>IQ</th>\n",
       "      <th>Physics_Marks</th>\n",
       "      <th>Math_Marks</th>\n",
       "      <th>Chemistry_Marks</th>\n",
       "      <th>Has_Part_Time_Job</th>\n",
       "    </tr>\n",
       "  </thead>\n",
       "  <tbody>\n",
       "    <tr>\n",
       "      <th>0</th>\n",
       "      <td>Derek Smith</td>\n",
       "      <td>26</td>\n",
       "      <td>Female</td>\n",
       "      <td>6.596347</td>\n",
       "      <td>98</td>\n",
       "      <td>68</td>\n",
       "      <td>100</td>\n",
       "      <td>43</td>\n",
       "      <td>True</td>\n",
       "    </tr>\n",
       "    <tr>\n",
       "      <th>1</th>\n",
       "      <td>Christopher Boyle</td>\n",
       "      <td>37</td>\n",
       "      <td>Male</td>\n",
       "      <td>5.672202</td>\n",
       "      <td>133</td>\n",
       "      <td>44</td>\n",
       "      <td>53</td>\n",
       "      <td>92</td>\n",
       "      <td>True</td>\n",
       "    </tr>\n",
       "    <tr>\n",
       "      <th>2</th>\n",
       "      <td>Bradley Jones</td>\n",
       "      <td>19</td>\n",
       "      <td>Male</td>\n",
       "      <td>6.282581</td>\n",
       "      <td>89</td>\n",
       "      <td>90</td>\n",
       "      <td>48</td>\n",
       "      <td>57</td>\n",
       "      <td>True</td>\n",
       "    </tr>\n",
       "    <tr>\n",
       "      <th>3</th>\n",
       "      <td>Eric Martinez</td>\n",
       "      <td>21</td>\n",
       "      <td>Male</td>\n",
       "      <td>8.004422</td>\n",
       "      <td>106</td>\n",
       "      <td>81</td>\n",
       "      <td>88</td>\n",
       "      <td>41</td>\n",
       "      <td>False</td>\n",
       "    </tr>\n",
       "    <tr>\n",
       "      <th>4</th>\n",
       "      <td>Jennifer Ferrell</td>\n",
       "      <td>29</td>\n",
       "      <td>Female</td>\n",
       "      <td>4.322501</td>\n",
       "      <td>88</td>\n",
       "      <td>41</td>\n",
       "      <td>83</td>\n",
       "      <td>85</td>\n",
       "      <td>True</td>\n",
       "    </tr>\n",
       "  </tbody>\n",
       "</table>\n",
       "</div>"
      ],
      "text/plain": [
       "                Name  Age  Gender  Hours_Studied   IQ  Physics_Marks  \\\n",
       "0        Derek Smith   26  Female       6.596347   98             68   \n",
       "1  Christopher Boyle   37    Male       5.672202  133             44   \n",
       "2      Bradley Jones   19    Male       6.282581   89             90   \n",
       "3      Eric Martinez   21    Male       8.004422  106             81   \n",
       "4   Jennifer Ferrell   29  Female       4.322501   88             41   \n",
       "\n",
       "   Math_Marks  Chemistry_Marks  Has_Part_Time_Job  \n",
       "0         100               43               True  \n",
       "1          53               92               True  \n",
       "2          48               57               True  \n",
       "3          88               41              False  \n",
       "4          83               85               True  "
      ]
     },
     "execution_count": 16,
     "metadata": {},
     "output_type": "execute_result"
    }
   ],
   "source": [
    "import pandas as pd\n",
    "import warnings\n",
    "d = pd.read_csv(r\"C:\\Users\\HP\\Downloads\\student_ml_dataset (1).csv\")\n",
    "warnings.filterwarnings('ignore')\n",
    "d.head()"
   ]
  },
  {
   "cell_type": "code",
   "execution_count": 17,
   "id": "0ecbdc53",
   "metadata": {},
   "outputs": [
    {
     "data": {
      "text/html": [
       "<div>\n",
       "<style scoped>\n",
       "    .dataframe tbody tr th:only-of-type {\n",
       "        vertical-align: middle;\n",
       "    }\n",
       "\n",
       "    .dataframe tbody tr th {\n",
       "        vertical-align: top;\n",
       "    }\n",
       "\n",
       "    .dataframe thead th {\n",
       "        text-align: right;\n",
       "    }\n",
       "</style>\n",
       "<table border=\"1\" class=\"dataframe\">\n",
       "  <thead>\n",
       "    <tr style=\"text-align: right;\">\n",
       "      <th></th>\n",
       "      <th>Name</th>\n",
       "      <th>Age</th>\n",
       "      <th>Gender</th>\n",
       "      <th>Hours_Studied</th>\n",
       "      <th>IQ</th>\n",
       "      <th>Physics_Marks</th>\n",
       "      <th>Math_Marks</th>\n",
       "      <th>Chemistry_Marks</th>\n",
       "      <th>Has_Part_Time_Job</th>\n",
       "    </tr>\n",
       "  </thead>\n",
       "  <tbody>\n",
       "    <tr>\n",
       "      <th>0</th>\n",
       "      <td>Derek Smith</td>\n",
       "      <td>26</td>\n",
       "      <td>Female</td>\n",
       "      <td>6.596347</td>\n",
       "      <td>98</td>\n",
       "      <td>68</td>\n",
       "      <td>100</td>\n",
       "      <td>43</td>\n",
       "      <td>True</td>\n",
       "    </tr>\n",
       "    <tr>\n",
       "      <th>1</th>\n",
       "      <td>Christopher Boyle</td>\n",
       "      <td>37</td>\n",
       "      <td>Male</td>\n",
       "      <td>5.672202</td>\n",
       "      <td>133</td>\n",
       "      <td>44</td>\n",
       "      <td>53</td>\n",
       "      <td>92</td>\n",
       "      <td>True</td>\n",
       "    </tr>\n",
       "    <tr>\n",
       "      <th>2</th>\n",
       "      <td>Bradley Jones</td>\n",
       "      <td>19</td>\n",
       "      <td>Male</td>\n",
       "      <td>6.282581</td>\n",
       "      <td>89</td>\n",
       "      <td>90</td>\n",
       "      <td>48</td>\n",
       "      <td>57</td>\n",
       "      <td>True</td>\n",
       "    </tr>\n",
       "    <tr>\n",
       "      <th>3</th>\n",
       "      <td>Eric Martinez</td>\n",
       "      <td>21</td>\n",
       "      <td>Male</td>\n",
       "      <td>8.004422</td>\n",
       "      <td>106</td>\n",
       "      <td>81</td>\n",
       "      <td>88</td>\n",
       "      <td>41</td>\n",
       "      <td>False</td>\n",
       "    </tr>\n",
       "    <tr>\n",
       "      <th>4</th>\n",
       "      <td>Jennifer Ferrell</td>\n",
       "      <td>29</td>\n",
       "      <td>Female</td>\n",
       "      <td>4.322501</td>\n",
       "      <td>88</td>\n",
       "      <td>41</td>\n",
       "      <td>83</td>\n",
       "      <td>85</td>\n",
       "      <td>True</td>\n",
       "    </tr>\n",
       "    <tr>\n",
       "      <th>5</th>\n",
       "      <td>Ryan Rangel</td>\n",
       "      <td>40</td>\n",
       "      <td>Male</td>\n",
       "      <td>1.854121</td>\n",
       "      <td>119</td>\n",
       "      <td>58</td>\n",
       "      <td>100</td>\n",
       "      <td>69</td>\n",
       "      <td>True</td>\n",
       "    </tr>\n",
       "  </tbody>\n",
       "</table>\n",
       "</div>"
      ],
      "text/plain": [
       "                Name  Age  Gender  Hours_Studied   IQ  Physics_Marks  \\\n",
       "0        Derek Smith   26  Female       6.596347   98             68   \n",
       "1  Christopher Boyle   37    Male       5.672202  133             44   \n",
       "2      Bradley Jones   19    Male       6.282581   89             90   \n",
       "3      Eric Martinez   21    Male       8.004422  106             81   \n",
       "4   Jennifer Ferrell   29  Female       4.322501   88             41   \n",
       "5        Ryan Rangel   40    Male       1.854121  119             58   \n",
       "\n",
       "   Math_Marks  Chemistry_Marks  Has_Part_Time_Job  \n",
       "0         100               43               True  \n",
       "1          53               92               True  \n",
       "2          48               57               True  \n",
       "3          88               41              False  \n",
       "4          83               85               True  \n",
       "5         100               69               True  "
      ]
     },
     "execution_count": 17,
     "metadata": {},
     "output_type": "execute_result"
    }
   ],
   "source": [
    "d.head(6)"
   ]
  },
  {
   "cell_type": "code",
   "execution_count": 19,
   "id": "0cfeb712",
   "metadata": {},
   "outputs": [
    {
     "data": {
      "text/html": [
       "<div>\n",
       "<style scoped>\n",
       "    .dataframe tbody tr th:only-of-type {\n",
       "        vertical-align: middle;\n",
       "    }\n",
       "\n",
       "    .dataframe tbody tr th {\n",
       "        vertical-align: top;\n",
       "    }\n",
       "\n",
       "    .dataframe thead th {\n",
       "        text-align: right;\n",
       "    }\n",
       "</style>\n",
       "<table border=\"1\" class=\"dataframe\">\n",
       "  <thead>\n",
       "    <tr style=\"text-align: right;\">\n",
       "      <th></th>\n",
       "      <th>Name</th>\n",
       "      <th>Age</th>\n",
       "      <th>Gender</th>\n",
       "      <th>Hours_Studied</th>\n",
       "      <th>IQ</th>\n",
       "      <th>Physics_Marks</th>\n",
       "      <th>Math_Marks</th>\n",
       "      <th>Chemistry_Marks</th>\n",
       "      <th>Has_Part_Time_Job</th>\n",
       "    </tr>\n",
       "  </thead>\n",
       "  <tbody>\n",
       "    <tr>\n",
       "      <th>995</th>\n",
       "      <td>Jonathan Long</td>\n",
       "      <td>29</td>\n",
       "      <td>Female</td>\n",
       "      <td>4.525427</td>\n",
       "      <td>100</td>\n",
       "      <td>64</td>\n",
       "      <td>72</td>\n",
       "      <td>63</td>\n",
       "      <td>False</td>\n",
       "    </tr>\n",
       "    <tr>\n",
       "      <th>996</th>\n",
       "      <td>Michael Morgan</td>\n",
       "      <td>34</td>\n",
       "      <td>Female</td>\n",
       "      <td>9.049785</td>\n",
       "      <td>129</td>\n",
       "      <td>70</td>\n",
       "      <td>91</td>\n",
       "      <td>40</td>\n",
       "      <td>False</td>\n",
       "    </tr>\n",
       "    <tr>\n",
       "      <th>997</th>\n",
       "      <td>Jacob Cunningham</td>\n",
       "      <td>29</td>\n",
       "      <td>Male</td>\n",
       "      <td>5.942553</td>\n",
       "      <td>108</td>\n",
       "      <td>68</td>\n",
       "      <td>100</td>\n",
       "      <td>98</td>\n",
       "      <td>True</td>\n",
       "    </tr>\n",
       "    <tr>\n",
       "      <th>998</th>\n",
       "      <td>Brittany Matthews</td>\n",
       "      <td>39</td>\n",
       "      <td>Female</td>\n",
       "      <td>5.268965</td>\n",
       "      <td>120</td>\n",
       "      <td>73</td>\n",
       "      <td>52</td>\n",
       "      <td>87</td>\n",
       "      <td>False</td>\n",
       "    </tr>\n",
       "    <tr>\n",
       "      <th>999</th>\n",
       "      <td>Daniel Kramer</td>\n",
       "      <td>28</td>\n",
       "      <td>Female</td>\n",
       "      <td>9.840650</td>\n",
       "      <td>106</td>\n",
       "      <td>74</td>\n",
       "      <td>82</td>\n",
       "      <td>55</td>\n",
       "      <td>True</td>\n",
       "    </tr>\n",
       "  </tbody>\n",
       "</table>\n",
       "</div>"
      ],
      "text/plain": [
       "                  Name  Age  Gender  Hours_Studied   IQ  Physics_Marks  \\\n",
       "995      Jonathan Long   29  Female       4.525427  100             64   \n",
       "996     Michael Morgan   34  Female       9.049785  129             70   \n",
       "997   Jacob Cunningham   29    Male       5.942553  108             68   \n",
       "998  Brittany Matthews   39  Female       5.268965  120             73   \n",
       "999      Daniel Kramer   28  Female       9.840650  106             74   \n",
       "\n",
       "     Math_Marks  Chemistry_Marks  Has_Part_Time_Job  \n",
       "995          72               63              False  \n",
       "996          91               40              False  \n",
       "997         100               98               True  \n",
       "998          52               87              False  \n",
       "999          82               55               True  "
      ]
     },
     "execution_count": 19,
     "metadata": {},
     "output_type": "execute_result"
    }
   ],
   "source": [
    "d.tail()"
   ]
  },
  {
   "cell_type": "code",
   "execution_count": 20,
   "id": "ed848c81",
   "metadata": {},
   "outputs": [
    {
     "data": {
      "text/html": [
       "<div>\n",
       "<style scoped>\n",
       "    .dataframe tbody tr th:only-of-type {\n",
       "        vertical-align: middle;\n",
       "    }\n",
       "\n",
       "    .dataframe tbody tr th {\n",
       "        vertical-align: top;\n",
       "    }\n",
       "\n",
       "    .dataframe thead th {\n",
       "        text-align: right;\n",
       "    }\n",
       "</style>\n",
       "<table border=\"1\" class=\"dataframe\">\n",
       "  <thead>\n",
       "    <tr style=\"text-align: right;\">\n",
       "      <th></th>\n",
       "      <th>Name</th>\n",
       "      <th>Age</th>\n",
       "      <th>Gender</th>\n",
       "      <th>Hours_Studied</th>\n",
       "      <th>IQ</th>\n",
       "      <th>Physics_Marks</th>\n",
       "      <th>Math_Marks</th>\n",
       "      <th>Chemistry_Marks</th>\n",
       "      <th>Has_Part_Time_Job</th>\n",
       "    </tr>\n",
       "  </thead>\n",
       "  <tbody>\n",
       "    <tr>\n",
       "      <th>127</th>\n",
       "      <td>John Carpenter</td>\n",
       "      <td>29</td>\n",
       "      <td>Female</td>\n",
       "      <td>8.380407</td>\n",
       "      <td>136</td>\n",
       "      <td>59</td>\n",
       "      <td>59</td>\n",
       "      <td>91</td>\n",
       "      <td>False</td>\n",
       "    </tr>\n",
       "    <tr>\n",
       "      <th>538</th>\n",
       "      <td>Mark Reed</td>\n",
       "      <td>18</td>\n",
       "      <td>Female</td>\n",
       "      <td>4.122292</td>\n",
       "      <td>90</td>\n",
       "      <td>55</td>\n",
       "      <td>79</td>\n",
       "      <td>55</td>\n",
       "      <td>True</td>\n",
       "    </tr>\n",
       "    <tr>\n",
       "      <th>144</th>\n",
       "      <td>Julia Lang</td>\n",
       "      <td>40</td>\n",
       "      <td>Female</td>\n",
       "      <td>3.932093</td>\n",
       "      <td>144</td>\n",
       "      <td>40</td>\n",
       "      <td>86</td>\n",
       "      <td>97</td>\n",
       "      <td>True</td>\n",
       "    </tr>\n",
       "    <tr>\n",
       "      <th>96</th>\n",
       "      <td>Jennifer Thompson</td>\n",
       "      <td>26</td>\n",
       "      <td>Female</td>\n",
       "      <td>8.523082</td>\n",
       "      <td>104</td>\n",
       "      <td>44</td>\n",
       "      <td>83</td>\n",
       "      <td>100</td>\n",
       "      <td>False</td>\n",
       "    </tr>\n",
       "    <tr>\n",
       "      <th>825</th>\n",
       "      <td>Lisa Rojas</td>\n",
       "      <td>33</td>\n",
       "      <td>Female</td>\n",
       "      <td>7.427144</td>\n",
       "      <td>148</td>\n",
       "      <td>78</td>\n",
       "      <td>73</td>\n",
       "      <td>58</td>\n",
       "      <td>True</td>\n",
       "    </tr>\n",
       "  </tbody>\n",
       "</table>\n",
       "</div>"
      ],
      "text/plain": [
       "                  Name  Age  Gender  Hours_Studied   IQ  Physics_Marks  \\\n",
       "127     John Carpenter   29  Female       8.380407  136             59   \n",
       "538          Mark Reed   18  Female       4.122292   90             55   \n",
       "144         Julia Lang   40  Female       3.932093  144             40   \n",
       "96   Jennifer Thompson   26  Female       8.523082  104             44   \n",
       "825         Lisa Rojas   33  Female       7.427144  148             78   \n",
       "\n",
       "     Math_Marks  Chemistry_Marks  Has_Part_Time_Job  \n",
       "127          59               91              False  \n",
       "538          79               55               True  \n",
       "144          86               97               True  \n",
       "96           83              100              False  \n",
       "825          73               58               True  "
      ]
     },
     "execution_count": 20,
     "metadata": {},
     "output_type": "execute_result"
    }
   ],
   "source": [
    "d.sample(5)"
   ]
  },
  {
   "cell_type": "code",
   "execution_count": 22,
   "id": "f301add4",
   "metadata": {},
   "outputs": [
    {
     "name": "stdout",
     "output_type": "stream",
     "text": [
      "Number odcolumns 1000\n",
      "Number if rows 9\n"
     ]
    }
   ],
   "source": [
    "print(\"Number odcolumns\",d.shape[0])\n",
    "print(\"Number if rows\",d.shape[1])"
   ]
  },
  {
   "cell_type": "code",
   "execution_count": 24,
   "id": "0709862e",
   "metadata": {},
   "outputs": [
    {
     "data": {
      "text/html": [
       "<div>\n",
       "<style scoped>\n",
       "    .dataframe tbody tr th:only-of-type {\n",
       "        vertical-align: middle;\n",
       "    }\n",
       "\n",
       "    .dataframe tbody tr th {\n",
       "        vertical-align: top;\n",
       "    }\n",
       "\n",
       "    .dataframe thead th {\n",
       "        text-align: right;\n",
       "    }\n",
       "</style>\n",
       "<table border=\"1\" class=\"dataframe\">\n",
       "  <thead>\n",
       "    <tr style=\"text-align: right;\">\n",
       "      <th></th>\n",
       "      <th>Name</th>\n",
       "      <th>Age</th>\n",
       "      <th>Gender</th>\n",
       "      <th>Hours_Studied</th>\n",
       "      <th>IQ</th>\n",
       "      <th>Physics_Marks</th>\n",
       "      <th>Math_Marks</th>\n",
       "      <th>Chemistry_Marks</th>\n",
       "      <th>Has_Part_Time_Job</th>\n",
       "    </tr>\n",
       "  </thead>\n",
       "  <tbody>\n",
       "    <tr>\n",
       "      <th>0</th>\n",
       "      <td>False</td>\n",
       "      <td>False</td>\n",
       "      <td>False</td>\n",
       "      <td>False</td>\n",
       "      <td>False</td>\n",
       "      <td>False</td>\n",
       "      <td>False</td>\n",
       "      <td>False</td>\n",
       "      <td>False</td>\n",
       "    </tr>\n",
       "    <tr>\n",
       "      <th>1</th>\n",
       "      <td>False</td>\n",
       "      <td>False</td>\n",
       "      <td>False</td>\n",
       "      <td>False</td>\n",
       "      <td>False</td>\n",
       "      <td>False</td>\n",
       "      <td>False</td>\n",
       "      <td>False</td>\n",
       "      <td>False</td>\n",
       "    </tr>\n",
       "    <tr>\n",
       "      <th>2</th>\n",
       "      <td>False</td>\n",
       "      <td>False</td>\n",
       "      <td>False</td>\n",
       "      <td>False</td>\n",
       "      <td>False</td>\n",
       "      <td>False</td>\n",
       "      <td>False</td>\n",
       "      <td>False</td>\n",
       "      <td>False</td>\n",
       "    </tr>\n",
       "    <tr>\n",
       "      <th>3</th>\n",
       "      <td>False</td>\n",
       "      <td>False</td>\n",
       "      <td>False</td>\n",
       "      <td>False</td>\n",
       "      <td>False</td>\n",
       "      <td>False</td>\n",
       "      <td>False</td>\n",
       "      <td>False</td>\n",
       "      <td>False</td>\n",
       "    </tr>\n",
       "    <tr>\n",
       "      <th>4</th>\n",
       "      <td>False</td>\n",
       "      <td>False</td>\n",
       "      <td>False</td>\n",
       "      <td>False</td>\n",
       "      <td>False</td>\n",
       "      <td>False</td>\n",
       "      <td>False</td>\n",
       "      <td>False</td>\n",
       "      <td>False</td>\n",
       "    </tr>\n",
       "    <tr>\n",
       "      <th>...</th>\n",
       "      <td>...</td>\n",
       "      <td>...</td>\n",
       "      <td>...</td>\n",
       "      <td>...</td>\n",
       "      <td>...</td>\n",
       "      <td>...</td>\n",
       "      <td>...</td>\n",
       "      <td>...</td>\n",
       "      <td>...</td>\n",
       "    </tr>\n",
       "    <tr>\n",
       "      <th>995</th>\n",
       "      <td>False</td>\n",
       "      <td>False</td>\n",
       "      <td>False</td>\n",
       "      <td>False</td>\n",
       "      <td>False</td>\n",
       "      <td>False</td>\n",
       "      <td>False</td>\n",
       "      <td>False</td>\n",
       "      <td>False</td>\n",
       "    </tr>\n",
       "    <tr>\n",
       "      <th>996</th>\n",
       "      <td>False</td>\n",
       "      <td>False</td>\n",
       "      <td>False</td>\n",
       "      <td>False</td>\n",
       "      <td>False</td>\n",
       "      <td>False</td>\n",
       "      <td>False</td>\n",
       "      <td>False</td>\n",
       "      <td>False</td>\n",
       "    </tr>\n",
       "    <tr>\n",
       "      <th>997</th>\n",
       "      <td>False</td>\n",
       "      <td>False</td>\n",
       "      <td>False</td>\n",
       "      <td>False</td>\n",
       "      <td>False</td>\n",
       "      <td>False</td>\n",
       "      <td>False</td>\n",
       "      <td>False</td>\n",
       "      <td>False</td>\n",
       "    </tr>\n",
       "    <tr>\n",
       "      <th>998</th>\n",
       "      <td>False</td>\n",
       "      <td>False</td>\n",
       "      <td>False</td>\n",
       "      <td>False</td>\n",
       "      <td>False</td>\n",
       "      <td>False</td>\n",
       "      <td>False</td>\n",
       "      <td>False</td>\n",
       "      <td>False</td>\n",
       "    </tr>\n",
       "    <tr>\n",
       "      <th>999</th>\n",
       "      <td>False</td>\n",
       "      <td>False</td>\n",
       "      <td>False</td>\n",
       "      <td>False</td>\n",
       "      <td>False</td>\n",
       "      <td>False</td>\n",
       "      <td>False</td>\n",
       "      <td>False</td>\n",
       "      <td>False</td>\n",
       "    </tr>\n",
       "  </tbody>\n",
       "</table>\n",
       "<p>1000 rows × 9 columns</p>\n",
       "</div>"
      ],
      "text/plain": [
       "      Name    Age  Gender  Hours_Studied     IQ  Physics_Marks  Math_Marks  \\\n",
       "0    False  False   False          False  False          False       False   \n",
       "1    False  False   False          False  False          False       False   \n",
       "2    False  False   False          False  False          False       False   \n",
       "3    False  False   False          False  False          False       False   \n",
       "4    False  False   False          False  False          False       False   \n",
       "..     ...    ...     ...            ...    ...            ...         ...   \n",
       "995  False  False   False          False  False          False       False   \n",
       "996  False  False   False          False  False          False       False   \n",
       "997  False  False   False          False  False          False       False   \n",
       "998  False  False   False          False  False          False       False   \n",
       "999  False  False   False          False  False          False       False   \n",
       "\n",
       "     Chemistry_Marks  Has_Part_Time_Job  \n",
       "0              False              False  \n",
       "1              False              False  \n",
       "2              False              False  \n",
       "3              False              False  \n",
       "4              False              False  \n",
       "..               ...                ...  \n",
       "995            False              False  \n",
       "996            False              False  \n",
       "997            False              False  \n",
       "998            False              False  \n",
       "999            False              False  \n",
       "\n",
       "[1000 rows x 9 columns]"
      ]
     },
     "execution_count": 24,
     "metadata": {},
     "output_type": "execute_result"
    }
   ],
   "source": [
    "d.isnull()"
   ]
  },
  {
   "cell_type": "code",
   "execution_count": 25,
   "id": "84b6337e",
   "metadata": {},
   "outputs": [
    {
     "name": "stdout",
     "output_type": "stream",
     "text": [
      "<class 'pandas.core.frame.DataFrame'>\n",
      "RangeIndex: 1000 entries, 0 to 999\n",
      "Data columns (total 9 columns):\n",
      " #   Column             Non-Null Count  Dtype  \n",
      "---  ------             --------------  -----  \n",
      " 0   Name               1000 non-null   object \n",
      " 1   Age                1000 non-null   int64  \n",
      " 2   Gender             1000 non-null   object \n",
      " 3   Hours_Studied      1000 non-null   float64\n",
      " 4   IQ                 1000 non-null   int64  \n",
      " 5   Physics_Marks      1000 non-null   int64  \n",
      " 6   Math_Marks         1000 non-null   int64  \n",
      " 7   Chemistry_Marks    1000 non-null   int64  \n",
      " 8   Has_Part_Time_Job  1000 non-null   bool   \n",
      "dtypes: bool(1), float64(1), int64(5), object(2)\n",
      "memory usage: 63.6+ KB\n"
     ]
    }
   ],
   "source": [
    "d.info()"
   ]
  },
  {
   "cell_type": "code",
   "execution_count": 27,
   "id": "84ff27c1",
   "metadata": {},
   "outputs": [
    {
     "data": {
      "text/html": [
       "<div>\n",
       "<style scoped>\n",
       "    .dataframe tbody tr th:only-of-type {\n",
       "        vertical-align: middle;\n",
       "    }\n",
       "\n",
       "    .dataframe tbody tr th {\n",
       "        vertical-align: top;\n",
       "    }\n",
       "\n",
       "    .dataframe thead th {\n",
       "        text-align: right;\n",
       "    }\n",
       "</style>\n",
       "<table border=\"1\" class=\"dataframe\">\n",
       "  <thead>\n",
       "    <tr style=\"text-align: right;\">\n",
       "      <th></th>\n",
       "      <th>Age</th>\n",
       "      <th>Hours_Studied</th>\n",
       "      <th>IQ</th>\n",
       "      <th>Physics_Marks</th>\n",
       "      <th>Math_Marks</th>\n",
       "      <th>Chemistry_Marks</th>\n",
       "    </tr>\n",
       "  </thead>\n",
       "  <tbody>\n",
       "    <tr>\n",
       "      <th>count</th>\n",
       "      <td>1000.000000</td>\n",
       "      <td>1000.000000</td>\n",
       "      <td>1000.000000</td>\n",
       "      <td>1000.000000</td>\n",
       "      <td>1000.000000</td>\n",
       "      <td>1000.000000</td>\n",
       "    </tr>\n",
       "    <tr>\n",
       "      <th>mean</th>\n",
       "      <td>31.470000</td>\n",
       "      <td>5.394825</td>\n",
       "      <td>115.025000</td>\n",
       "      <td>69.585000</td>\n",
       "      <td>70.546000</td>\n",
       "      <td>70.727000</td>\n",
       "    </tr>\n",
       "    <tr>\n",
       "      <th>std</th>\n",
       "      <td>8.100909</td>\n",
       "      <td>2.555895</td>\n",
       "      <td>19.740721</td>\n",
       "      <td>17.357248</td>\n",
       "      <td>17.097199</td>\n",
       "      <td>17.138909</td>\n",
       "    </tr>\n",
       "    <tr>\n",
       "      <th>min</th>\n",
       "      <td>18.000000</td>\n",
       "      <td>1.003158</td>\n",
       "      <td>80.000000</td>\n",
       "      <td>40.000000</td>\n",
       "      <td>40.000000</td>\n",
       "      <td>40.000000</td>\n",
       "    </tr>\n",
       "    <tr>\n",
       "      <th>25%</th>\n",
       "      <td>25.000000</td>\n",
       "      <td>3.188172</td>\n",
       "      <td>99.000000</td>\n",
       "      <td>54.000000</td>\n",
       "      <td>56.000000</td>\n",
       "      <td>56.000000</td>\n",
       "    </tr>\n",
       "    <tr>\n",
       "      <th>50%</th>\n",
       "      <td>31.000000</td>\n",
       "      <td>5.466678</td>\n",
       "      <td>115.000000</td>\n",
       "      <td>70.000000</td>\n",
       "      <td>72.000000</td>\n",
       "      <td>71.000000</td>\n",
       "    </tr>\n",
       "    <tr>\n",
       "      <th>75%</th>\n",
       "      <td>39.000000</td>\n",
       "      <td>7.462535</td>\n",
       "      <td>131.000000</td>\n",
       "      <td>84.000000</td>\n",
       "      <td>84.000000</td>\n",
       "      <td>85.000000</td>\n",
       "    </tr>\n",
       "    <tr>\n",
       "      <th>max</th>\n",
       "      <td>45.000000</td>\n",
       "      <td>9.997769</td>\n",
       "      <td>150.000000</td>\n",
       "      <td>100.000000</td>\n",
       "      <td>100.000000</td>\n",
       "      <td>100.000000</td>\n",
       "    </tr>\n",
       "  </tbody>\n",
       "</table>\n",
       "</div>"
      ],
      "text/plain": [
       "               Age  Hours_Studied           IQ  Physics_Marks   Math_Marks  \\\n",
       "count  1000.000000    1000.000000  1000.000000    1000.000000  1000.000000   \n",
       "mean     31.470000       5.394825   115.025000      69.585000    70.546000   \n",
       "std       8.100909       2.555895    19.740721      17.357248    17.097199   \n",
       "min      18.000000       1.003158    80.000000      40.000000    40.000000   \n",
       "25%      25.000000       3.188172    99.000000      54.000000    56.000000   \n",
       "50%      31.000000       5.466678   115.000000      70.000000    72.000000   \n",
       "75%      39.000000       7.462535   131.000000      84.000000    84.000000   \n",
       "max      45.000000       9.997769   150.000000     100.000000   100.000000   \n",
       "\n",
       "       Chemistry_Marks  \n",
       "count      1000.000000  \n",
       "mean         70.727000  \n",
       "std          17.138909  \n",
       "min          40.000000  \n",
       "25%          56.000000  \n",
       "50%          71.000000  \n",
       "75%          85.000000  \n",
       "max         100.000000  "
      ]
     },
     "execution_count": 27,
     "metadata": {},
     "output_type": "execute_result"
    }
   ],
   "source": [
    "d.describe()"
   ]
  },
  {
   "cell_type": "code",
   "execution_count": 35,
   "id": "edf8266d",
   "metadata": {},
   "outputs": [],
   "source": [
    "cat=[]\n",
    "num=[]\n",
    "for column in d.columns:\n",
    "    if d[column].nunique() > 199 :\n",
    "        num.append(column)\n",
    "    else:\n",
    "        cat.append(column)"
   ]
  },
  {
   "cell_type": "code",
   "execution_count": 37,
   "id": "0c447162",
   "metadata": {},
   "outputs": [
    {
     "name": "stdout",
     "output_type": "stream",
     "text": [
      "['Age', 'Gender', 'IQ', 'Physics_Marks', 'Math_Marks', 'Chemistry_Marks', 'Has_Part_Time_Job']\n"
     ]
    }
   ],
   "source": [
    "print(cat)"
   ]
  },
  {
   "cell_type": "code",
   "execution_count": 38,
   "id": "f3538778",
   "metadata": {},
   "outputs": [
    {
     "name": "stdout",
     "output_type": "stream",
     "text": [
      "['Name', 'Hours_Studied']\n"
     ]
    }
   ],
   "source": [
    "print(num)"
   ]
  },
  {
   "cell_type": "code",
   "execution_count": 40,
   "id": "01932ef0",
   "metadata": {},
   "outputs": [
    {
     "data": {
      "text/plain": [
       "<Axes: ylabel='count'>"
      ]
     },
     "execution_count": 40,
     "metadata": {},
     "output_type": "execute_result"
    },
    {
     "data": {
      "image/png": "[encoded data removed]",
      "text/plain": [
       "<Figure size 640x480 with 1 Axes>"
      ]
     },
     "metadata": {},
     "output_type": "display_data"
    }
   ],
   "source": [
    "sns.countplot(d['Age'])"
   ]
  },
  {
   "cell_type": "code",
   "execution_count": 51,
   "id": "8f8dfb30",
   "metadata": {},
   "outputs": [
    {
     "data": {
      "text/plain": [
       "<Axes: >"
      ]
     },
     "execution_count": 51,
     "metadata": {},
     "output_type": "execute_result"
    },
    {
     "data": {
      "image/png": "[encoded data removed]",
      "text/plain": [
       "<Figure size 640x480 with 1 Axes>"
      ]
     },
     "metadata": {},
     "output_type": "display_data"
    }
   ],
   "source": [
    "d['Age'].value_counts().plot(kind=\"bar\")"
   ]
  },
  {
   "cell_type": "code",
   "execution_count": 52,
   "id": "7d02f487",
   "metadata": {},
   "outputs": [
    {
     "data": {
      "text/plain": [
       "<Axes: >"
      ]
     },
     "execution_count": 52,
     "metadata": {},
     "output_type": "execute_result"
    },
    {
     "data": {
      "image/png": "[encoded data removed]",
      "text/plain": [
       "<Figure size 640x480 with 1 Axes>"
      ]
     },
     "metadata": {},
     "output_type": "display_data"
    }
   ],
   "source": [
    "d['IQ'].value_counts().plot(kind=\"bar\")"
   ]
  },
  {
   "cell_type": "code",
   "execution_count": 54,
   "id": "5647d71a",
   "metadata": {},
   "outputs": [
    {
     "data": {
      "text/plain": [
       "<Axes: xlabel='IQ', ylabel='Density'>"
      ]
     },
     "execution_count": 54,
     "metadata": {},
     "output_type": "execute_result"
    },
    {
     "data": {
      "image/png": "[encoded data removed]",
      "text/plain": [
       "<Figure size 640x480 with 1 Axes>"
      ]
     },
     "metadata": {},
     "output_type": "display_data"
    }
   ],
   "source": [
    "sns.distplot(d['IQ'])"
   ]
  },
  {
   "cell_type": "code",
   "execution_count": 55,
   "id": "40f41a05",
   "metadata": {},
   "outputs": [
    {
     "data": {
      "text/plain": [
       "-0.02530398875919914"
      ]
     },
     "execution_count": 55,
     "metadata": {},
     "output_type": "execute_result"
    }
   ],
   "source": [
    "d['IQ'].skew()"
   ]
  },
  {
   "cell_type": "code",
   "execution_count": 56,
   "id": "abcaef82",
   "metadata": {},
   "outputs": [
    {
     "data": {
      "text/plain": [
       "0.020055324860841675"
      ]
     },
     "execution_count": 56,
     "metadata": {},
     "output_type": "execute_result"
    }
   ],
   "source": [
    "d['Age'].skew()"
   ]
  },
  {
   "cell_type": "code",
   "execution_count": 58,
   "id": "cb517db5",
   "metadata": {},
   "outputs": [
    {
     "data": {
      "text/plain": [
       "<Axes: xlabel='Physics_Marks', ylabel='Density'>"
      ]
     },
     "execution_count": 58,
     "metadata": {},
     "output_type": "execute_result"
    },
    {
     "data": {
      "image/png": "[encoded data removed]",
      "text/plain": [
       "<Figure size 640x480 with 1 Axes>"
      ]
     },
     "metadata": {},
     "output_type": "display_data"
    }
   ],
   "source": [
    "sns.distplot(d['Physics_Marks'])"
   ]
  },
  {
   "cell_type": "code",
   "execution_count": 60,
   "id": "7ffd8e3b",
   "metadata": {},
   "outputs": [
    {
     "data": {
      "text/plain": [
       "<Axes: xlabel='Math_Marks', ylabel='Density'>"
      ]
     },
     "execution_count": 60,
     "metadata": {},
     "output_type": "execute_result"
    },
    {
     "data": {
      "image/png": "[encoded data removed]",
      "text/plain": [
       "<Figure size 640x480 with 1 Axes>"
      ]
     },
     "metadata": {},
     "output_type": "display_data"
    }
   ],
   "source": [
    "sns.distplot(d['Math_Marks'])"
   ]
  },
  {
   "cell_type": "code",
   "execution_count": 61,
   "id": "b27a7204",
   "metadata": {},
   "outputs": [
    {
     "data": {
      "text/plain": [
       "<Axes: xlabel='Chemistry_Marks', ylabel='Density'>"
      ]
     },
     "execution_count": 61,
     "metadata": {},
     "output_type": "execute_result"
    },
    {
     "data": {
      "image/png": "[encoded data removed]",
      "text/plain": [
       "<Figure size 640x480 with 1 Axes>"
      ]
     },
     "metadata": {},
     "output_type": "display_data"
    }
   ],
   "source": [
    "sns.distplot(d['Chemistry_Marks'])"
   ]
  },
  {
   "cell_type": "code",
   "execution_count": 63,
   "id": "349e221d",
   "metadata": {},
   "outputs": [
    {
     "data": {
      "text/plain": [
       "-0.07657920592997142"
      ]
     },
     "execution_count": 63,
     "metadata": {},
     "output_type": "execute_result"
    }
   ],
   "source": [
    "d['Math_Marks'].skew()"
   ]
  },
  {
   "cell_type": "code",
   "execution_count": 64,
   "id": "12d0c555",
   "metadata": {},
   "outputs": [
    {
     "data": {
      "text/plain": [
       "-0.006835266849150355"
      ]
     },
     "execution_count": 64,
     "metadata": {},
     "output_type": "execute_result"
    }
   ],
   "source": [
    "d['Physics_Marks'].skew()"
   ]
  },
  {
   "cell_type": "code",
   "execution_count": 65,
   "id": "9ac27b5c",
   "metadata": {},
   "outputs": [
    {
     "data": {
      "text/plain": [
       "-0.03767523404088224"
      ]
     },
     "execution_count": 65,
     "metadata": {},
     "output_type": "execute_result"
    }
   ],
   "source": [
    "d['Chemistry_Marks'].skew()"
   ]
  },
  {
   "cell_type": "code",
   "execution_count": null,
   "id": "945099aa",
   "metadata": {},
   "outputs": [],
   "source": []
  }
 ],
 "metadata": {
  "kernelspec": {
   "display_name": "Python 3 (ipykernel)",
   "language": "python",
   "name": "python3"
  },
  "language_info": {
   "codemirror_mode": {
    "name": "ipython",
    "version": 3
   },
   "file_extension": ".py",
   "mimetype": "text/x-python",
   "name": "python",
   "nbconvert_exporter": "python",
   "pygments_lexer": "ipython3",
   "version": "3.11.4"
  }
 },
 "nbformat": 4,
 "nbformat_minor": 5
}
